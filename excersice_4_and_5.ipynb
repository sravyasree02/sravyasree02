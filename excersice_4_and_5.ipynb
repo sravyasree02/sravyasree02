{
  "nbformat": 4,
  "nbformat_minor": 0,
  "metadata": {
    "colab": {
      "provenance": [],
      "authorship_tag": "ABX9TyPT8Ujj2DhpVzAzFwgyH+5X",
      "include_colab_link": true
    },
    "kernelspec": {
      "name": "python3",
      "display_name": "Python 3"
    },
    "language_info": {
      "name": "python"
    }
  },
  "cells": [
    {
      "cell_type": "markdown",
      "metadata": {
        "id": "view-in-github",
        "colab_type": "text"
      },
      "source": [
        "<a href=\"https://colab.research.google.com/github/sravyasree02/sravyasree02/blob/main/excersice_4_and_5.ipynb\" target=\"_parent\"><img src=\"https://colab.research.google.com/assets/colab-badge.svg\" alt=\"Open In Colab\"/></a>"
      ]
    },
    {
      "cell_type": "code",
      "source": [
        " def smith_waterman(query, sequence):\n",
        "    # Initialize scoring parameters\n",
        "    match_score = 2\n",
        "    mismatch_score = -1\n",
        "    gap_penalty = -1\n",
        "\n",
        "    # Initialize the scoring matrix\n",
        "    rows = len(query) + 1\n",
        "    cols = len(sequence) + 1\n",
        "    score_matrix = [[0] * cols for _ in range(rows)]\n",
        "\n",
        "    # Fill the scoring matrix\n",
        "    for i in range(1, rows):\n",
        "        for j in range(1, cols):\n",
        "            if query[i-1] == sequence[j-1]:\n",
        "                score = score_matrix[i-1][j-1] + match_score\n",
        "            else:\n",
        "                score = score_matrix[i-1][j-1] + mismatch_score\n",
        "\n",
        "            score = max(score, score_matrix[i-1][j] + gap_penalty)\n",
        "            score = max(score, score_matrix[i][j-1] + gap_penalty)\n",
        "            score = max(score, 0)  # Smith-Waterman: scores can't be negative\n",
        "\n",
        "            score_matrix[i][j] = score\n",
        "\n",
        "    # Find the maximum score in the matrix\n",
        "    max_score = 0\n",
        "    max_pos = (0, 0)\n",
        "    for i in range(rows):\n",
        "        for j in range(cols):\n",
        "            if score_matrix[i][j] > max_score:\n",
        "                max_score = score_matrix[i][j]\n",
        "                max_pos = (i, j)\n",
        "\n",
        "    # Trace back to get the aligned sequences (simplified)\n",
        "    aligned_query = \"\"\n",
        "    aligned_sequence = \"\"\n",
        "    i, j = max_pos\n",
        "    while score_matrix[i][j] > 0:\n",
        "        if score_matrix[i][j] == score_matrix[i-1][j-1] + (match_score if query[i-1] == sequence[j-1] else mismatch_score):\n",
        "            aligned_query = query[i-1] + aligned_query\n",
        "            aligned_sequence = sequence[j-1] + aligned_sequence\n",
        "            i -= 1\n",
        "            j -= 1\n",
        "        elif score_matrix[i][j] == score_matrix[i-1][j] + gap_penalty:\n",
        "            aligned_query = query[i-1] + aligned_query\n",
        "            aligned_sequence = \"-\" + aligned_sequence\n",
        "            i -= 1\n",
        "        else:\n",
        "            aligned_query = \"-\" + aligned_query\n",
        "            aligned_sequence = sequence[j-1] + aligned_sequence\n",
        "            j -= 1\n",
        "\n",
        "    return aligned_query, aligned_sequence, max_score\n",
        "\n",
        "# Now you can call search_database\n",
        "search_database(query_sequence, database)\n",
        "\n"
      ],
      "metadata": {
        "colab": {
          "base_uri": "https://localhost:8080/"
        },
        "id": "FOBKS030NtQU",
        "outputId": "14fcd364-96d0-43f7-9e2f-6b54a3aa127b"
      },
      "execution_count": null,
      "outputs": [
        {
          "output_type": "stream",
          "name": "stdout",
          "text": [
            "Sequence ID: seq1\n",
            "Aligned Query: GTGACC\n",
            "Aligned Sequence: GTGACC\n",
            "Alignment Score: 12\n",
            "\n",
            "Sequence ID: seq2\n",
            "Aligned Query: G-TGACC\n",
            "Aligned Sequence: GTTGACC\n",
            "Alignment Score: 11\n",
            "\n",
            "Sequence ID: seq3\n",
            "Aligned Query: TGAC\n",
            "Aligned Sequence: TGAC\n",
            "Alignment Score: 8\n",
            "\n"
          ]
        }
      ]
    },
    {
      "cell_type": "code",
      "source": [
        " # Install the biopython library which contains the Bio module\n",
        "!pip install biopython\n",
        "\n",
        "from Bio import Entrez, SeqIO\n",
        "\n",
        "accession_id = \"M37817.1\"  # Replace with a valid GenBank ID\n",
        "\n",
        "# Define the fetch_genbank_record function\n",
        "def fetch_genbank_record(accession_id):\n",
        "    Entrez.email = \"your_email@example.com\"  # Always provide your email address to NCBI\n",
        "    handle = Entrez.efetch(db=\"nucleotide\", id=accession_id, rettype=\"gb\", retmode=\"text\")\n",
        "    record = SeqIO.read(handle, \"genbank\")\n",
        "    handle.close()\n",
        "    return record\n",
        "\n",
        "# Fetch the GenBank record\n",
        "record = fetch_genbank_record(accession_id)\n",
        "\n",
        "# Extract relevant information\n",
        "print(f\"Organism: {record.annotations['organism']}\")\n",
        "print(f\"Sequence Length: {len(record.seq)} nucleotides\")\n",
        "print(f\"Sequence Description: {record.description}\")\n",
        "\n",
        "print(\"\\nSequence Features:\")\n",
        "for feature in record.features:\n",
        "    print(f\" - {feature.type}: {feature.location}\")\n",
        "\n",
        "print(\"\\nReferences:\")\n",
        "for reference in record.annotations[\"references\"]:\n",
        "    print(f\" - Title: {reference.title}\")\n",
        "    print(f\"   Authors: {', '.join(reference.authors)}\")\n",
        "    print(f\"   Journal: {reference.journal}\\n\")\n"
      ],
      "metadata": {
        "colab": {
          "base_uri": "https://localhost:8080/"
        },
        "id": "w9T0tSNfRQHy",
        "outputId": "d53e0bb9-dc93-44ec-ba85-f5c452b94152"
      },
      "execution_count": null,
      "outputs": [
        {
          "output_type": "stream",
          "name": "stdout",
          "text": [
            "Collecting biopython\n",
            "  Downloading biopython-1.84-cp310-cp310-manylinux_2_17_x86_64.manylinux2014_x86_64.whl.metadata (12 kB)\n",
            "Requirement already satisfied: numpy in /usr/local/lib/python3.10/dist-packages (from biopython) (1.26.4)\n",
            "Downloading biopython-1.84-cp310-cp310-manylinux_2_17_x86_64.manylinux2014_x86_64.whl (3.2 MB)\n",
            "\u001b[2K   \u001b[90m━━━━━━━━━━━━━━━━━━━━━━━━━━━━━━━━━━━━━━━━\u001b[0m \u001b[32m3.2/3.2 MB\u001b[0m \u001b[31m43.4 MB/s\u001b[0m eta \u001b[36m0:00:00\u001b[0m\n",
            "\u001b[?25hInstalling collected packages: biopython\n",
            "Successfully installed biopython-1.84\n",
            "Organism: Homo sapiens\n",
            "Sequence Length: 866 nucleotides\n",
            "Sequence Description: Human keratin psi-K#16-1 pseudogene, 3'end\n",
            "\n",
            "Sequence Features:\n",
            " - source: [0:866](+)\n",
            " - gene: [0:595](+)\n",
            " - CDS: [<0:595](+)\n",
            "\n",
            "References:\n",
            " - Title: Three parallel linkage groups of human acidic keratin genes\n",
            "   Authors: S, a, v, t, c, h, e, n, k, o, ,, E, ., S, ., ,,  , T, o, m, i, c, ,, M, ., ,,  , I, v, k, e, r, ,, R, .,  , a, n, d,  , B, l, u, m, e, n, b, e, r, g, ,, M, .\n",
            "   Journal: Genomics 7 (3), 394-407 (1990)\n",
            "\n"
          ]
        }
      ]
    }
  ]
}