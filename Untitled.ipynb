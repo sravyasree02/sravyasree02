{
  "nbformat": 4,
  "nbformat_minor": 0,
  "metadata": {
    "colab": {
      "provenance": []
    },
    "kernelspec": {
      "name": "python3",
      "display_name": "Python 3"
    },
    "language_info": {
      "name": "python"
    }
  },
  "cells": [
    {
      "cell_type": "code",
      "execution_count": 2,
      "metadata": {
        "colab": {
          "base_uri": "https://localhost:8080/"
        },
        "id": "ZJzRG-r7IrGp",
        "outputId": "4049ecae-1d6c-4e72-c83d-4a76ca80a354"
      },
      "outputs": [
        {
          "output_type": "stream",
          "name": "stdout",
          "text": [
            "Requirement already satisfied: biopython==1.81 in /usr/local/lib/python3.10/dist-packages (1.81)\n",
            "Requirement already satisfied: numpy in /usr/local/lib/python3.10/dist-packages (from biopython==1.81) (1.26.4)\n",
            "ID :NR_131217.1\n",
            "Sequence :AGTTAGTGCTGGGAAACAGTGCTAAGAAGGATACAGTGGCTAGAAGTCGTCCTGTCGTCCTGCCTCACAGTAACATCGTTACCGAATTCTCAGCAGGTGAACCAAATGAAATGGTCAACTGAAAGCCAACCAGGTCTCTCCTTGTGAGAAGTGAATTTCTTCAACGTTTATAGAACTGAGGTATTACATTATTGGATGAATTAAGAAAACAATCTAACCTGATGTGTGAAAATTTCTGCTTGTGAGAATCCGTGTTATTTCAATTATCCAATCAAGAGCCTAATTCGTATAAAAGAAACACAGCAGCTTGTTGCTCATCTTTTTATCTAAGGACGGTTTGTCTTGACAGAGGGTGTCTGGCTGTTTTGGGGAAACTATTCCTGACCTTATTTTGACTAAAAAGTTGCCTGCTGTACCAGCAAAAAATCACCATGTACCAACCTATCCAAACTTATCCATGGATGAATCTATCCAGAAGACGGGAGTTCCGATGCTTGTCTTGCTCTGAATGTCTGCTTGTCACCTGCTTAGGGTTATCGACTGTGATTCTGGGACTCATTGTTGTTCTACAGGACCCCTCTGACTCTGTGGTTTTCTCTACTGGATTAACAATGATAGCCATAGGTGCTTTTTTTGTTGTCCTCACTGGAGTGACAGCCCTGTGTACGGTTACAGTCGACGAGAACTTGCAGAAAACCACGAGGCTAAGACTAGGAGTGATACGAAAAAGCGGAAGTCTCCAAGGAACTACAGAGCCTTCCATGACTCACTCAATAATCGCTAGCACCTCGCTGTAGTTGTACATTGAACCCTGGCATCTTCGTCTTTGGAACTAAGTCTCCTGAGCATTGTTTTTAAATAGAAATAAAATCTGGCTTTTAAAAAAAAAAAAAAA\n",
            "Length :895\n"
          ]
        }
      ],
      "source": [
        "!pip install biopython==1.81\n",
        "from Bio import SeqIO\n",
        "for record in SeqIO.parse(\"/content/sequence.fasta\", \"fasta\"):\n",
        "    print(f\"ID :{record.id}\")\n",
        "    print(f\"Sequence :{record.seq}\")\n",
        "    print(f\"Length :{len(record)}\")"
      ]
    }
  ]
}